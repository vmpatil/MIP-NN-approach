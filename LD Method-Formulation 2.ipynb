{
 "cells": [
  {
   "cell_type": "markdown",
   "id": "c9b56fa7",
   "metadata": {},
   "source": [
    "_Last Updated: 06/11/2021_"
   ]
  },
  {
   "cell_type": "markdown",
   "id": "7147f46b",
   "metadata": {},
   "source": [
    "## General MIP Original Problem for $ L \\ge 2 $\n",
    "#### _with artificial variable_ $ g_{n,k\\prime,k,l} $"
   ]
  },
  {
   "cell_type": "markdown",
   "id": "3bfe1137",
   "metadata": {},
   "source": [
    "__Parameters:__\n",
    "\n",
    "$ x_{n,d}: \\textrm{binary vector inputs of size n} \\times \\textrm{d, where n is the number of data points, d is the number of dimensions/features} $ \n",
    "\n",
    "$ y_{n}: \\textrm{ binary  vector labeled outputs of size n} \\times \\textrm{1, where n is the number of data points} $\n",
    "\n",
    "__Decision Variables:__\n",
    "\n",
    "$ \\alpha_{d,k,0}: \\textrm{Weight for feature d in unit k in the first hidden layer,} \\; \\forall\\;d\\in D,\\;k \\in K $\n",
    "\n",
    "$ \\alpha_{k\\prime,k,l}: \\textrm{Weight from the } k\\prime^{th} \\textrm{ unit in layer l-1 to unit k in layer l,} \\; \\forall\\;k\\prime,\\;k \\in K,\\;l \\in \\{1,2,3,...,L-1\\} $\n",
    "\n",
    "$ \\alpha_{k\\prime,0,L}: \\textrm{Weight from the } k\\prime^{th} \\textrm{ unit in hiddenlayer L to unit output layer L+1,} \\; \\forall\\;\\;k\\prime \\in K $\n",
    "\n",
    "$ \\beta_{k,l}: \\textrm{Bias for unit k in layer l,} \\; \\forall\\;k \\in K,\\;l\\in \\{0,1,...,L-1\\} $\n",
    "\n",
    "$ \\beta_{0,L}: \\textrm{Bias in the final layer} $\n",
    "\n",
    "$ h_{n,k,l}: \\textrm{Binary output of unit k in layer l,} \\; \\forall\\;n \\in N, \\;k \\in K,\\;l \\in \\{0,1,...L-1\\} $\n",
    "\n",
    "$ g_{n,k\\prime,k,l}: \\textrm{Artificial Variable for decomposition,} \\; \\forall\\;n \\in N,\\; k, k\\prime \\in K,\\; l \\in \\{1,...,L-1\\} $\n",
    "\n",
    "$ g_{n,k\\prime,0,L}: \\textrm{Artificial Variable for decomposition of the output layer,} \\; \\forall\\;n \\in N,\\; k\\prime \\in K $\n",
    "\n",
    "$ z_{n,k\\prime,k,l}: \\textrm{Auxilliary variable that represents } \\alpha_{k\\prime,k,l}g_{n,k\\prime,k,l} \\; \\forall\\;n \\in N, \\;k\\prime,\\;k \\in K,\\;l \\in \\{1,2,...,L-1\\} $\n",
    "\n",
    "$ z_{n,k\\prime,0,L}: \\textrm{Auxilliary variable that represents } \\alpha_{k\\prime,0,L}g_{n,k\\prime,0,L} \\; \\forall\\;n \\in N, \\;k\\prime,\\;k \\in K $\n",
    "\n",
    "$ \\hat{y}_{n}: \\textrm{Output of final layer,} \\; \\forall\\;n \\in N $\n",
    "\n",
    "$ \\ell_{n}: \\textrm{Absolute Misclassification of data point n,} \\; \\forall\\;n \\in N $\n",
    "\n",
    "__Objective:__\n",
    "\n",
    "$\\displaystyle \\min_{\\alpha,\\beta,h,g,z,\\hat{y},\\ell} \\; \\sum_{n=0}^{N} \\ell_{n} $\n",
    "\n",
    "__Constraints:__\n",
    "\n",
    "$ \\textrm{subject to} \\quad \\displaystyle \\sum_{k\\prime=0}^{K} (z_{n,k\\prime,0,L}) + \\beta_{0,L} \\le -\\epsilon + (M+\\epsilon)\\hat{y}_{n}, \\; \\forall \\; n $\n",
    "\n",
    "$ \\quad\\quad\\quad\\quad\\;\\; \\displaystyle \\sum_{k\\prime=0}^{K} (z_{n,k\\prime,0,L}) + \\beta_{0,L} \\ge \\epsilon + (m-\\epsilon)(1-\\hat{y}_{n}), \\; \\forall \\; n $\n",
    "\n",
    "$ \\quad\\quad\\quad\\quad\\;\\; \\ell_{n} \\ge y_{n} - \\hat{y}_{n}, \\; \\forall \\; n $\n",
    "\n",
    "$ \\quad\\quad\\quad\\quad\\;\\; \\ell_{n} \\ge -y_{n} + \\hat{y}_{n}, \\; \\forall \\; n $\n",
    "\n",
    "$ \\quad\\quad\\quad\\quad\\;\\; \\displaystyle \\sum_{d=0}^{D} (\\alpha_{d,k,0}x_{n,d}) + \\beta_{k,0} \\le -\\epsilon + (M+\\epsilon)h_{n,k,0}, \\; \\forall \\;n,k $\n",
    "\n",
    "$ \\quad\\quad\\quad\\quad\\;\\; \\displaystyle \\sum_{d=0}^{D} (\\alpha_{d,k,0}x_{n,d}) + \\beta_{k,0} \\ge \\epsilon + (m-\\epsilon)(1-h_{n,k,0}), \\; \\forall \\; n,k $\n",
    "\n",
    "$ \\quad\\quad\\quad\\quad\\ \\displaystyle  \\sum_{k\\prime=0}^{K} (z_{n,k\\prime,k,l}) + \\beta_{k,l} \\le -\\epsilon + (M+\\epsilon)h_{n,k,l}, \\; \\forall \\;n,k,l\\in\\;\\{1,2,...,L-1\\} $\n",
    "\n",
    "$ \\quad\\quad\\quad\\quad\\ \\displaystyle  \\sum_{k\\prime=0}^{K} (z_{n,k\\prime,k,l}) + \\beta_{k,l}  \\ge \\epsilon + (m-\\epsilon)(1-h_{n,k,l}), \\; \\forall \\; n,k,l\\in\\;\\{1,2,...,L-1\\} $\n",
    "\n",
    "$ \\quad\\quad\\quad\\quad\\;\\; z_{n,k\\prime,k,l} \\le \\alpha_{k\\prime,k,l}, \\; \\forall\\;n,k\\prime,k,l\\in\\;\\{1,2,...,L-1\\} $\n",
    "\n",
    "$ \\quad\\quad\\quad\\quad\\;\\; z_{n,k\\prime,k,l} - \\alpha_{k\\prime,k,l} \\ge m(1-g_{n,k\\prime,k,l}), \\; \\forall\\;n,k\\prime,k,l\\in\\;\\{1,2,...,L-1\\} $\n",
    "\n",
    "$ \\quad\\quad\\quad\\quad\\;\\; z_{n,k\\prime,k,l} \\le Mg_{n,k\\prime,k,l}, \\; \\forall\\;n,k\\prime,k,l\\in\\;\\{1,2,...,L-1\\} $\n",
    "\n",
    "$ \\quad\\quad\\quad\\quad\\;\\; z_{n,k\\prime,k,l} \\ge mg_{n,k\\prime,k,l}, \\; \\forall\\;n,k\\prime,k,l\\in\\;\\{1,2,...,L-1\\} $\n",
    "\n",
    "$ \\quad\\quad\\quad\\quad\\;\\; g_{n,k\\prime,k,l} = h_{n,k\\prime,(l-1)}, \\; \\forall \\; n,k\\prime,k,l \\in \\{1,2,...,L-1\\} $\n",
    "\n",
    "$ \\quad\\quad\\quad\\quad\\;\\; z_{n,k\\prime,0,L} \\le \\alpha_{k\\prime,0,L}, \\; \\forall\\;n,k\\prime $\n",
    "\n",
    "$ \\quad\\quad\\quad\\quad\\;\\; z_{n,k\\prime,0,L} - \\alpha_{k\\prime,0,L} \\ge m(1-g_{n,k\\prime,0,L}), \\; \\forall\\;n,k\\prime $\n",
    "\n",
    "$ \\quad\\quad\\quad\\quad\\;\\; z_{n,k\\prime,0,L} \\le Mg_{n,k\\prime,0,L}, \\; \\forall\\;n,k\\prime $\n",
    "\n",
    "$ \\quad\\quad\\quad\\quad\\;\\; z_{n,k\\prime,0,L} \\ge mg_{n,k\\prime,0,L}, \\; \\forall\\;n,k\\prime $\n",
    "\n",
    "$ \\quad\\quad\\quad\\quad\\;\\; g_{n,k\\prime,0,L} = h_{n,k\\prime,(L-1)}, \\; \\forall \\; n,k\\prime,k $\n",
    "\n",
    "$ \\quad\\quad\\quad\\quad\\;\\; Lower\\;Bound \\le \\alpha_{d,k,0},\\;\\alpha_{k\\prime,k,l},\\;\\alpha_{k\\prime,0,L-1} \\le Upper\\;Bound, \\; \\forall \\; d,k\\prime,k,l\\in\\;\\{1,2,...,L-1\\} $ \n",
    "\n",
    "$ \\quad\\quad\\quad\\quad\\;\\; Lower\\;Bound \\le \\;z_{n,k\\prime,k,l},\\;z_{n,k\\prime,0,L} \\le Upper\\;Bound, \\; \\forall \\; n,k\\prime,k,l\\in\\;\\{1,2,...,L-1\\} $ \n",
    "\n",
    "$ \\quad\\quad\\quad\\quad\\;\\; Lower\\;Bound \\le \\beta_{k,l},\\; \\beta_{L-1} \\le Upper\\;Bound, \\; \\forall \\; k,l\\in\\;\\{0,1,2,...,L-1\\} $\n",
    "\n",
    "$ \\quad\\quad\\quad\\quad\\;\\; \\hat{y}_{n},h_{n,k,l} \\in \\{0,1\\}, \\; \\forall \\; n,k\\prime,k,l\\in\\;\\{0,1,...,L-1\\} $\n",
    "\n",
    "$ \\quad\\quad\\quad\\quad\\;\\; g_{n,k\\prime,k,l},g_{n,k\\prime,0,L} \\in \\{0,1\\}, \\; \\forall \\; n,k\\prime,k,l\\in\\;\\{1,2,...,L-1\\} $\n",
    "\n",
    "$ \\quad\\quad\\quad\\quad\\;\\; 0 \\le \\ell_{n} \\le 1, \\; \\forall \\; n \\in N $\n"
   ]
  },
  {
   "cell_type": "markdown",
   "id": "b1ab97a4",
   "metadata": {},
   "source": [
    "***"
   ]
  },
  {
   "cell_type": "markdown",
   "id": "989c9c09",
   "metadata": {},
   "source": [
    "## Lagrangian Relaxation and Dual"
   ]
  },
  {
   "cell_type": "markdown",
   "id": "30b8edb1",
   "metadata": {},
   "source": [
    "$ \\zeta_{LR}(\\lambda) = \\displaystyle \\min_{\\alpha,\\beta,h,g,z,\\hat{y},\\ell} \\;\n",
    "  \\sum_{n=0}^{N} ( \\ell_{n} + \\sum_{k\\prime=0}^{K} ( \\sum_{k=0}^{K} ( \\sum_{l=1}^{L-1} (\n",
    "    \\lambda_{n,k\\prime,k,l}(g_{n,k\\prime,k,l} - h_{n,k\\prime,(l-1)}))) + \\lambda_{n,k\\prime,0,L}(g_{n,k\\prime,0,L} - h_{n,k\\prime,(L-1)}))) $\n",
    "\n",
    "$ \\textrm{subject to} \\quad \\displaystyle \\sum_{k\\prime=0}^{K} (z_{n,k\\prime,0,L}) + \\beta_{0,L} \\le -\\epsilon + (M+\\epsilon)\\hat{y}_{n}, \\; \\forall \\; n $\n",
    "\n",
    "$ \\quad\\quad\\quad\\quad\\;\\; \\displaystyle \\sum_{k\\prime=0}^{K} (z_{n,k\\prime,0,L}) + \\beta_{0,L} \\ge \\epsilon + (m-\\epsilon)(1-\\hat{y}_{n}), \\; \\forall \\; n $\n",
    "\n",
    "$ \\quad\\quad\\quad\\quad\\;\\; \\ell_{n} \\ge y_{n} - \\hat{y}_{n}, \\; \\forall \\; n $\n",
    "\n",
    "$ \\quad\\quad\\quad\\quad\\;\\; \\ell_{n} \\ge -y_{n} + \\hat{y}_{n}, \\; \\forall \\; n $\n",
    "\n",
    "$ \\quad\\quad\\quad\\quad\\;\\; \\displaystyle \\sum_{d=0}^{D} (\\alpha_{d,k,0}x_{n,d}) + \\beta_{k,0} \\le -\\epsilon + (M+\\epsilon)h_{n,k,0}, \\; \\forall \\;n,k $\n",
    "\n",
    "$ \\quad\\quad\\quad\\quad\\;\\; \\displaystyle \\sum_{d=0}^{D} (\\alpha_{d,k,0}x_{n,d}) + \\beta_{k,0} \\ge \\epsilon + (m-\\epsilon)(1-h_{n,k,0}), \\; \\forall \\; n,k $\n",
    "\n",
    "$ \\quad\\quad\\quad\\quad\\ \\displaystyle  \\sum_{k\\prime=0}^{K} (z_{n,k\\prime,k,l}) + \\beta_{k,l} \\le -\\epsilon + (M+\\epsilon)h_{n,k,l}, \\; \\forall \\;n,k,l\\in\\;\\{1,2,...,L-1\\} $\n",
    "\n",
    "$ \\quad\\quad\\quad\\quad\\ \\displaystyle  \\sum_{k\\prime=0}^{K} (z_{n,k\\prime,k,l}) + \\beta_{k,l}  \\ge \\epsilon + (m-\\epsilon)(1-h_{n,k,l}), \\; \\forall \\; n,k,l\\in\\;\\{1,2,...,L-1\\} $\n",
    "\n",
    "$ \\quad\\quad\\quad\\quad\\;\\; z_{n,k\\prime,k,l} \\le \\alpha_{k\\prime,k,l}, \\; \\forall\\;n,k\\prime,k,l\\in\\;\\{1,2,...,L-1\\} $\n",
    "\n",
    "$ \\quad\\quad\\quad\\quad\\;\\; z_{n,k\\prime,k,l} - \\alpha_{k\\prime,k,l} \\ge m(1-g_{n,k\\prime,k,l}), \\; \\forall\\;n,k\\prime,k,l\\in\\;\\{1,2,...,L-1\\} $\n",
    "\n",
    "$ \\quad\\quad\\quad\\quad\\;\\; z_{n,k\\prime,k,l} \\le Mg_{n,k\\prime,k,l}, \\; \\forall\\;n,k\\prime,k,l\\in\\;\\{1,2,...,L-1\\} $\n",
    "\n",
    "$ \\quad\\quad\\quad\\quad\\;\\; z_{n,k\\prime,k,l} \\ge mg_{n,k\\prime,k,l}, \\; \\forall\\;n,k\\prime,k,l\\in\\;\\{1,2,...,L-1\\} $\n",
    "\n",
    "$ \\quad\\quad\\quad\\quad\\;\\; z_{n,k\\prime,0,L} \\le \\alpha_{k\\prime,0,L}, \\; \\forall\\;n,k\\prime $\n",
    "\n",
    "$ \\quad\\quad\\quad\\quad\\;\\; z_{n,k\\prime,0,L} - \\alpha_{k\\prime,0,L} \\ge m(1-g_{n,k\\prime,0,L}), \\; \\forall\\;n,k\\prime $\n",
    "\n",
    "$ \\quad\\quad\\quad\\quad\\;\\; z_{n,k\\prime,0,L} \\le Mg_{n,k\\prime,0,L}, \\; \\forall\\;n,k\\prime $\n",
    "\n",
    "$ \\quad\\quad\\quad\\quad\\;\\; z_{n,k\\prime,0,L} \\ge mg_{n,k\\prime,0,L}, \\; \\forall\\;n,k\\prime $\n",
    "\n",
    "$ \\quad\\quad\\quad\\quad\\;\\; Lower\\;Bound \\le \\alpha_{d,k,0},\\;\\alpha_{k\\prime,k,l},\\;\\alpha_{k\\prime,0,L-1} \\le Upper\\;Bound, \\; \\forall \\; d,k\\prime,k,l\\in\\;\\{1,2,...,L-1\\} $ \n",
    "\n",
    "$ \\quad\\quad\\quad\\quad\\;\\; Lower\\;Bound \\le \\;z_{n,k\\prime,k,l},\\;z_{n,k\\prime,0,L} \\le Upper\\;Bound, \\; \\forall \\; n,k\\prime,k,l\\in\\;\\{1,2,...,L-1\\} $ \n",
    "\n",
    "$ \\quad\\quad\\quad\\quad\\;\\; Lower\\;Bound \\le \\beta_{k,l},\\; \\beta_{L-1} \\le Upper\\;Bound, \\; \\forall \\; k,l\\in\\;\\{0,1,2,...,L-1\\} $\n",
    "\n",
    "$ \\quad\\quad\\quad\\quad\\;\\; \\hat{y}_{n},h_{n,k,l} \\in \\{0,1\\}, \\; \\forall \\; n,k\\prime,k,l\\in\\;\\{0,1,...,L-1\\} $\n",
    "\n",
    "$ \\quad\\quad\\quad\\quad\\;\\; g_{n,k\\prime,k,l},g_{n,k\\prime,0,L} \\in \\{0,1\\}, \\; \\forall \\; n,k\\prime,k,l\\in\\;\\{1,2,...,L-1\\} $\n",
    "\n",
    "$ \\quad\\quad\\quad\\quad\\;\\; 0 \\le \\ell_{n} \\le 1, \\; \\forall \\; n \\in N $\n"
   ]
  },
  {
   "cell_type": "markdown",
   "id": "86aed7d7",
   "metadata": {},
   "source": [
    "***"
   ]
  },
  {
   "cell_type": "markdown",
   "id": "ae918310",
   "metadata": {},
   "source": [
    "### Sub-problems"
   ]
  },
  {
   "cell_type": "markdown",
   "id": "724b6b13",
   "metadata": {},
   "source": [
    "$ \\zeta_{0}(\\lambda) = \\displaystyle \\min_{\\alpha,\\beta,h} \\; \n",
    "\\sum_{n=0}^{N} (\\sum_{k\\prime=0}^{K} (\\sum_{k=0}^{K} (-\\lambda_{n,k\\prime,k,1}h_{n,k\\prime,0}))) $\n",
    "                  \n",
    "$ \\textrm{subject to} \\quad \\displaystyle \\sum_{d=0}^{D} (\\alpha_{d,k,0}x_{n,d}) + \\beta_{k,0} \\le -\\epsilon + (M+\\epsilon)h_{n,k,0}, \\; \\forall \\;n,k $ \n",
    "\n",
    "$ \\quad\\quad\\quad\\quad\\;\\; \\displaystyle \\sum_{d=0}^{D} (\\alpha_{d,k,0}x_{n,d}) + \\beta_{k,0} \\ge \\epsilon + (m-\\epsilon)(1-h_{n,k,0}), \\; \\forall \\; n,k $\n",
    "\n",
    "$ \\quad\\quad\\quad\\quad\\;\\; Lower\\;Bound \\le \\alpha_{d,k,0} \\le Upper\\;Bound, \\; \\forall \\; d,k $\n",
    "\n",
    "$ \\quad\\quad\\quad\\quad\\;\\; Lower\\;Bound \\le \\beta_{k,0} \\le Upper\\;Bound, \\; \\forall \\; k $\n",
    "\n",
    "$ \\quad\\quad\\quad\\quad\\;\\; h_{n,k,0}  \\in \\{0,1\\}, \\; \\forall \\; n,k $\n"
   ]
  },
  {
   "cell_type": "markdown",
   "id": "db29a66c",
   "metadata": {},
   "source": [
    "$ \\zeta_{l}(\\lambda) = \\displaystyle \\min_{\\alpha,\\beta,z,h,g} \\; \n",
    "\\sum_{n=0}^{N} (\\sum_{k\\prime=0}^{K} (\\sum_{k=0}^{K} ( \\lambda_{n,k\\prime,k,l}g_{n,k\\prime,k,l} - \\lambda_{n,k\\prime,k,l+1}h_{n,k\\prime,l}))) $\n",
    "                  \n",
    "$ \\textrm{subject to} \\quad \\displaystyle  \\sum_{k\\prime=0}^{K} (z_{n,k\\prime,k,l}) + \\beta_{k,l} \\le -\\epsilon + (M+\\epsilon)h_{n,k,l}, \\; \\forall \\;n,k $\n",
    "\n",
    "$ \\quad\\quad\\quad\\quad\\ \\displaystyle  \\sum_{k\\prime=0}^{K} (z_{n,k\\prime,k,l}) + \\beta_{k,l}  \\ge \\epsilon + (m-\\epsilon)(1-h_{n,k,l}), \\; \\forall \\; n,k $\n",
    "\n",
    "$ \\quad\\quad\\quad\\quad\\;\\; z_{n,k\\prime,k,l} \\le \\alpha_{k\\prime,k,l}, \\; \\forall\\;n,k\\prime,k $\n",
    "\n",
    "$ \\quad\\quad\\quad\\quad\\;\\; z_{n,k\\prime,k,l} - \\alpha_{k\\prime,k,l} \\ge m(1-g_{n,k\\prime,k,l}), \\; \\forall\\;n,k\\prime,k $\n",
    "\n",
    "$ \\quad\\quad\\quad\\quad\\;\\; z_{n,k\\prime,k,l} \\le Mg_{n,k\\prime,k,l}, \\; \\forall\\;n,k\\prime,k $\n",
    "\n",
    "$ \\quad\\quad\\quad\\quad\\;\\; z_{n,k\\prime,k,l} \\ge mg_{n,k\\prime,k,l}, \\; \\forall\\;n,k\\prime,k $\n",
    "\n",
    "$ \\quad\\quad\\quad\\quad\\;\\; Lower\\;Bound \\le \\alpha_{k\\prime,k,l} \\le Upper\\;Bound, \\; \\forall \\; k\\prime, k $\n",
    "\n",
    "$ \\quad\\quad\\quad\\quad\\;\\; Lower\\;Bound \\le z_{n,k\\prime,k,l} \\le Upper\\;Bound, \\; \\forall \\; n,k,k\\prime $\n",
    "\n",
    "$ \\quad\\quad\\quad\\quad\\;\\; Lower\\;Bound \\le \\beta_{k,l} \\le Upper\\;Bound, \\; \\forall \\; k $\n",
    "\n",
    "$ \\quad\\quad\\quad\\quad\\;\\; h_{n,k,l},g_{n,k\\prime,k,l} \\in \\{0,1\\}, \\; \\forall \\; n,k,k\\prime $\n"
   ]
  },
  {
   "cell_type": "markdown",
   "id": "56cb1aa4",
   "metadata": {},
   "source": [
    "$ \\zeta_{L-1}(\\lambda) = \\displaystyle \\min_{\\alpha,\\beta,z,h,g} \\; \n",
    "\\sum_{n=0}^{N} (\\sum_{k\\prime=0}^{K} (\\sum_{k=0}^{K} ( \\lambda_{n,k\\prime,k,L-1}g_{n,k\\prime,k,L-1}) - \\lambda_{n,k\\prime,0,L}h_{n,k\\prime,L-1})) $\n",
    "                  \n",
    "$ \\textrm{subject to} \\quad \\displaystyle  \\sum_{k\\prime=0}^{K} (z_{n,k\\prime,k,L-1}) + \\beta_{k,L-1} \\le -\\epsilon + (M+\\epsilon)h_{n,k,L-1}, \\; \\forall \\;n,k $\n",
    "\n",
    "$ \\quad\\quad\\quad\\quad\\ \\displaystyle  \\sum_{k\\prime=0}^{K} (z_{n,k\\prime,k,L-1}) + \\beta_{k,L-1}  \\ge \\epsilon + (m-\\epsilon)(1-h_{n,k,L-1}), \\; \\forall \\; n,k $\n",
    "\n",
    "$ \\quad\\quad\\quad\\quad\\;\\; z_{n,k\\prime,k,L-1} \\le \\alpha_{k\\prime,k,L-1}, \\; \\forall\\;n,k\\prime,k $\n",
    "\n",
    "$ \\quad\\quad\\quad\\quad\\;\\; z_{n,k\\prime,k,L-1} - \\alpha_{k\\prime,k,L-1} \\ge m(1-g_{n,k\\prime,k,L-1}), \\; \\forall\\;n,k\\prime,k $\n",
    "\n",
    "$ \\quad\\quad\\quad\\quad\\;\\; z_{n,k\\prime,k,L-1} \\le Mg_{n,k\\prime,k,L-1}, \\; \\forall\\;n,k\\prime,k $\n",
    "\n",
    "$ \\quad\\quad\\quad\\quad\\;\\; z_{n,k\\prime,k,L-1} \\ge mg_{n,k\\prime,k,L-1}, \\; \\forall\\;n,k\\prime,k $\n",
    "\n",
    "$ \\quad\\quad\\quad\\quad\\;\\; Lower\\;Bound \\le \\alpha_{k\\prime,k,L-1} \\le Upper\\;Bound, \\; \\forall \\; k\\prime, k $\n",
    "\n",
    "$ \\quad\\quad\\quad\\quad\\;\\; Lower\\;Bound \\le z_{n,k\\prime,k,L-1} \\le Upper\\;Bound, \\; \\forall \\; n,k,k\\prime $\n",
    "\n",
    "$ \\quad\\quad\\quad\\quad\\;\\; Lower\\;Bound \\le \\beta_{k,L-1} \\le Upper\\;Bound, \\; \\forall \\; k $\n",
    "\n",
    "$ \\quad\\quad\\quad\\quad\\;\\; h_{n,k,L-1}, g_{n,k\\prime,k,L-1} \\in \\{0,1\\}, \\; \\forall \\; n,k,k\\prime $\n"
   ]
  },
  {
   "cell_type": "markdown",
   "id": "562e72d5",
   "metadata": {},
   "source": [
    "$ \\zeta_{L}(\\lambda) = \\displaystyle \\min_{\\alpha,\\beta,z,g,\\hat{y},\\ell} \\; \n",
    "\\sum_{n=0}^{N} (\\ell_{n} + \\sum_{k\\prime=0}^{K} (\\lambda_{n,k\\prime,0,L}g_{n,k\\prime,0,L})) $\n",
    "                  \n",
    "$ \\textrm{subject to} \\quad \\displaystyle \\sum_{k\\prime=0}^{K} (z_{n,k\\prime,0,L}) + \\beta_{0,L} \\le -\\epsilon + (M+\\epsilon)\\hat{y}_{n}, \\; \\forall \\; n $\n",
    "\n",
    "$ \\quad\\quad\\quad\\quad\\;\\; \\displaystyle \\sum_{k\\prime=0}^{K} (z_{n,k\\prime,0,L}) + \\beta_{0,L} \\ge \\epsilon + (m-\\epsilon)(1-\\hat{y}_{n}), \\; \\forall \\; n $\n",
    "\n",
    "$ \\quad\\quad\\quad\\quad\\;\\; \\ell_{n} \\ge y_{n} - \\hat{y}_{n}, \\; \\forall \\; n $\n",
    "\n",
    "$ \\quad\\quad\\quad\\quad\\;\\; \\ell_{n} \\ge -y_{n} + \\hat{y}_{n}, \\; \\forall \\; n $\n",
    "\n",
    "$ \\quad\\quad\\quad\\quad\\;\\; z_{n,k\\prime,0,L} \\le \\alpha_{k\\prime,0,L}, \\; \\forall\\;n,k\\prime $\n",
    "\n",
    "$ \\quad\\quad\\quad\\quad\\;\\; z_{n,k\\prime,0,L} - \\alpha_{k\\prime,0,L} \\ge m(1-g_{n,k\\prime,0,L}), \\; \\forall\\;n,k\\prime $\n",
    "\n",
    "$ \\quad\\quad\\quad\\quad\\;\\; z_{n,k\\prime,0,L} \\le Mg_{n,k\\prime,0,L}, \\; \\forall\\;n,k\\prime $\n",
    "\n",
    "$ \\quad\\quad\\quad\\quad\\;\\; z_{n,k\\prime,0,L} \\ge mg_{n,k\\prime,0,L}, \\; \\forall\\;n,k\\prime $\n",
    "\n",
    "$ \\quad\\quad\\quad\\quad\\;\\; Lower\\;Bound \\le \\alpha_{k\\prime,0,L} \\le Upper\\;Bound, \\; \\forall \\; k\\prime $ \n",
    "\n",
    "$ \\quad\\quad\\quad\\quad\\;\\; Lower\\;Bound \\le z_{n,k\\prime,0,L} \\le Upper\\;Bound, \\; \\forall \\; n,k\\prime $ \n",
    "\n",
    "$ \\quad\\quad\\quad\\quad\\;\\; Lower\\;Bound \\le \\beta_{0,L} \\le Upper\\;Bound $\n",
    "\n",
    "$ \\quad\\quad\\quad\\quad\\;\\; \\hat{y}_{n},g_{n,k\\prime,0,L} \\in \\{0,1\\}, \\; \\forall \\; n,k\\prime $\n",
    "\n",
    "$ \\quad\\quad\\quad\\quad\\;\\; 0 \\le \\ell_{n} \\le 1, \\; \\forall \\; n $"
   ]
  },
  {
   "cell_type": "markdown",
   "id": "ad89b4bc",
   "metadata": {},
   "source": [
    "$ z_{\\mathcal{L}} = \\displaystyle \\max_{\\lambda \\in \\mathbb{R}^{m_{1}}} \n",
    "\\zeta_{0}(\\lambda) + \\sum_{l=1}^{L-2}(\\zeta_{l}(\\lambda)) + \\zeta_{L-1}(\\lambda) + \\zeta_{L}(\\lambda) $\n"
   ]
  },
  {
   "cell_type": "markdown",
   "id": "b116f31d",
   "metadata": {},
   "source": [
    "***"
   ]
  },
  {
   "cell_type": "markdown",
   "id": "23ba9cf6",
   "metadata": {},
   "source": [
    "### Vrishabh's Notes\n",
    "\n",
    "* Not sure if the $ z \\le \\alpha $ constraints are in the right subproblems. They're in their respective layers, but since neither $ z $ nor $ \\alpha $ are in the dualized constraints, should they be in the final \"master\" dual problem?\n",
    "\n",
    "* Not sure if it's okay to have $ h_{n,k\\prime,l} $ in the objective, but $ h_{n,k,l} $ in the constraints for $ \\zeta_{0}(\\lambda),\\;\\zeta_{l}(\\lambda), \\text{ and } \\zeta_{L-1}(\\lambda) $. The variables don't necessarily align"
   ]
  }
 ],
 "metadata": {
  "kernelspec": {
   "display_name": "Python 3",
   "language": "python",
   "name": "python3"
  },
  "language_info": {
   "codemirror_mode": {
    "name": "ipython",
    "version": 3
   },
   "file_extension": ".py",
   "mimetype": "text/x-python",
   "name": "python",
   "nbconvert_exporter": "python",
   "pygments_lexer": "ipython3",
   "version": "3.7.2"
  }
 },
 "nbformat": 4,
 "nbformat_minor": 5
}
